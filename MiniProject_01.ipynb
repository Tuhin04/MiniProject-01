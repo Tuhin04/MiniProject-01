{
  "nbformat": 4,
  "nbformat_minor": 0,
  "metadata": {
    "colab": {
      "provenance": [],
      "authorship_tag": "ABX9TyMp2WdmnDEVFja0vJU8myii",
      "include_colab_link": true
    },
    "kernelspec": {
      "name": "python3",
      "display_name": "Python 3"
    },
    "language_info": {
      "name": "python"
    }
  },
  "cells": [
    {
      "cell_type": "markdown",
      "metadata": {
        "id": "view-in-github",
        "colab_type": "text"
      },
      "source": [
        "<a href=\"https://colab.research.google.com/github/Tuhin04/MiniProject-01/blob/main/MiniProject_01.ipynb\" target=\"_parent\"><img src=\"https://colab.research.google.com/assets/colab-badge.svg\" alt=\"Open In Colab\"/></a>"
      ]
    },
    {
      "cell_type": "markdown",
      "source": [
        "**Problem Statement:\n",
        "Find all the subsets from a set of numbers whose sum is zero.\n",
        "Constraint: Subset size must be 5;\n",
        "Set={-12, -3, -6, 7, 2, -2, 6, 3, 9, -7, -5, -8, 1, 11, -9, -4}**"
      ],
      "metadata": {
        "id": "1gH2441UlxLx"
      }
    },
    {
      "cell_type": "code",
      "execution_count": null,
      "metadata": {
        "id": "7cWKbR0slqLM"
      },
      "outputs": [],
      "source": [
        "from itertools import combinations\n",
        "\n",
        "def find_zero_sum_subsets(nums):\n",
        "    subsets = []\n",
        "    for combination in combinations(nums, 5):\n",
        "        if sum(combination) == 0:\n",
        "            subsets.append(combination)\n",
        "    return subsets\n",
        "\n",
        "# Set of numbers\n",
        "nums = [-12, -3, -6, 7, 2, -2, 6, 3, 9, -7, -5, -8, 1, 11, -9, -4]\n",
        "\n",
        "# Find subsets with sum zero\n",
        "zero_sum_subsets = find_zero_sum_subsets(nums)\n",
        "\n",
        "# Print the subsets\n",
        "for subset in zero_sum_subsets:\n",
        "    print(subset)\n"
      ]
    }
  ]
}